{
  "nbformat": 4,
  "nbformat_minor": 0,
  "metadata": {
    "kernelspec": {
      "display_name": "Python 3.5",
      "language": "python",
      "name": "python3"
    },
    "language_info": {
      "codemirror_mode": {
        "name": "ipython",
        "version": 3
      },
      "file_extension": ".py",
      "mimetype": "text/x-python",
      "name": "python",
      "nbconvert_exporter": "python",
      "pygments_lexer": "ipython3",
      "version": "3.5.6"
    },
    "colab": {
      "name": "Copy of DL_LAB1.ipynb",
      "provenance": [],
      "collapsed_sections": [
        "zgqYAU-pUEXY",
        "IeW_djZ3UEXr",
        "PMUfhZDwUEX1",
        "PRNPMPv7UEX9",
        "-u193oGfUEYF",
        "ALoX0B9eUEYN",
        "dTld2DSbUEYW",
        "X5QtNvQ1UEYe",
        "VvTFJJVtUEYr",
        "RlGh-vLQUEY7"
      ],
      "include_colab_link": true
    }
  },
  "cells": [
    {
      "cell_type": "markdown",
      "metadata": {
        "id": "view-in-github",
        "colab_type": "text"
      },
      "source": [
        "<a href=\"https://colab.research.google.com/github/shvardhan1994/Lab5ShinyApp/blob/master/DL_LAB1.ipynb\" target=\"_parent\"><img src=\"https://colab.research.google.com/assets/colab-badge.svg\" alt=\"Open In Colab\"/></a>"
      ]
    },
    {
      "cell_type": "markdown",
      "metadata": {
        "id": "1F4jBx94UEVU",
        "colab_type": "text"
      },
      "source": [
        "# Deep Neural Networks Laboration\n",
        "\n",
        "Data used in this laboration are from the Kitsune Network Attack Dataset, https://archive.ics.uci.edu/ml/datasets/Kitsune+Network+Attack+Dataset . We will focus on the 'Mirai' part of the dataset. Your task is to make a DNN that can classify if each attack is benign or malicious. The dataset has 116 covariates, but to make it a bit more difficult we will remove the first 24 covariates.\n",
        "\n",
        "You need to answer all questions in this notebook."
      ]
    },
    {
      "cell_type": "markdown",
      "metadata": {
        "id": "8eMMoHzPUEVY",
        "colab_type": "text"
      },
      "source": [
        "# Part 1: Get the data\n",
        "\n",
        "Use `wget` in the terminal of your cloud machine (in the same directory as where you have saved this notebook) to download the data, i.e.\n",
        "\n",
        "wget https://archive.ics.uci.edu/ml/machine-learning-databases/00516/mirai/Mirai_dataset.csv.gz\n",
        "\n",
        "wget https://archive.ics.uci.edu/ml/machine-learning-databases/00516/mirai/Mirai_labels.csv.gz\n",
        "\n",
        "Then unpack the files using `gunzip` in the terminal, i.e.\n",
        "\n",
        "gunzip Mirai_dataset.csv.gz\n",
        "\n",
        "gunzip Mirai_labels.csv.gz"
      ]
    },
    {
      "cell_type": "markdown",
      "metadata": {
        "id": "5U7TrpkfUEVb",
        "colab_type": "text"
      },
      "source": [
        "# Part 2: Get a graphics card\n",
        "\n",
        "Lets make sure that our script can see the graphics card that will be used. The graphics cards will perform all the time consuming calculations in every training iteration."
      ]
    },
    {
      "cell_type": "code",
      "metadata": {
        "id": "q7PRa9YzUEVd",
        "colab_type": "code",
        "outputId": "e0c20306-54e5-4263-8de8-0f5a15694f00",
        "colab": {
          "base_uri": "https://localhost:8080/",
          "height": 34
        }
      },
      "source": [
        "import os\n",
        "import warnings\n",
        "\n",
        "# Ignore FutureWarning from numpy\n",
        "warnings.simplefilter(action='ignore', category=FutureWarning)\n",
        "\n",
        "import keras.backend as K\n",
        "import tensorflow as tf\n",
        "\n",
        "os.environ[\"CUDA_DEVICE_ORDER\"]=\"PCI_BUS_ID\";\n",
        " \n",
        "# The GPU id to use, usually either \"0\" or \"1\";\n",
        "os.environ[\"CUDA_VISIBLE_DEVICES\"]=\"0\";\n",
        "\n",
        "# Allow growth of GPU memory, otherwise it will always look like all the memory is being used\n",
        "#physical_devices = tf.config.experimental.list_physical_devices('GPU')\n",
        "#print(physical_devices)\n",
        "#tf.config.experimental.set_memory_growth(physical_devices[0], True) "
      ],
      "execution_count": 0,
      "outputs": [
        {
          "output_type": "stream",
          "text": [
            "Using TensorFlow backend.\n"
          ],
          "name": "stderr"
        }
      ]
    },
    {
      "cell_type": "code",
      "metadata": {
        "id": "wWiWX6QQEril",
        "colab_type": "code",
        "outputId": "bc031982-8832-4a3b-bb44-9d5685bdd33e",
        "colab": {
          "base_uri": "https://localhost:8080/",
          "height": 121
        }
      },
      "source": [
        "from google.colab import drive\n",
        "drive.mount('/content/drive')"
      ],
      "execution_count": 0,
      "outputs": [
        {
          "output_type": "stream",
          "text": [
            "Go to this URL in a browser: https://accounts.google.com/o/oauth2/auth?client_id=947318989803-6bn6qk8qdgf4n4g3pfee6491hc0brc4i.apps.googleusercontent.com&redirect_uri=urn%3aietf%3awg%3aoauth%3a2.0%3aoob&response_type=code&scope=email%20https%3a%2f%2fwww.googleapis.com%2fauth%2fdocs.test%20https%3a%2f%2fwww.googleapis.com%2fauth%2fdrive%20https%3a%2f%2fwww.googleapis.com%2fauth%2fdrive.photos.readonly%20https%3a%2f%2fwww.googleapis.com%2fauth%2fpeopleapi.readonly\n",
            "\n",
            "Enter your authorization code:\n",
            "··········\n",
            "Mounted at /content/drive\n"
          ],
          "name": "stdout"
        }
      ]
    },
    {
      "cell_type": "markdown",
      "metadata": {
        "id": "vrIX-3b1UEVt",
        "colab_type": "text"
      },
      "source": [
        "# Part 3: Hardware\n",
        "\n",
        "In deep learning, the computer hardware is very important. You should always know what kind of hardware you are working on.\n",
        "\n",
        "Question 1: What graphics card is available in the cloud machine? Run 'nvidia-smi' in the terminal. \n",
        "\n",
        "Question 2: Google the name of the graphics card, how many CUDA cores does it have?\n",
        "\n",
        "Question 3: How much memory does the graphics card have?\n",
        "\n",
        "Question 4: What is stored in the GPU memory while training a DNN ?\n",
        "\n",
        "Question 5: What CPU is available in the cloud machine? How many cores does it have? Run 'lscpu' in the terminal.\n",
        "\n",
        "Question 6: How much CPU memory (RAM) is available in the cloud machine? Run 'free -g' in the terminal."
      ]
    },
    {
      "cell_type": "markdown",
      "metadata": {
        "id": "MzgAEXO2UEVv",
        "colab_type": "text"
      },
      "source": [
        "# Part 4: Load the data\n",
        "\n",
        "Load the dataset from the csv files, it will take some time since it is almost 1.4 GB. \n",
        "\n",
        "We will use the function `genfromtxt` to load the data.\n",
        "\n",
        "https://docs.scipy.org/doc/numpy/reference/generated/numpy.genfromtxt.html\n",
        "\n",
        "Load the data from csv files the first time, then save the data as numpy files for faster loading the next time.\n",
        "\n",
        "\n"
      ]
    },
    {
      "cell_type": "code",
      "metadata": {
        "id": "JEo5g9fFUEVx",
        "colab_type": "code",
        "outputId": "3b9885d4-b79d-40bd-88e6-be2b52874bdd",
        "colab": {
          "base_uri": "https://localhost:8080/",
          "height": 84
        }
      },
      "source": [
        "from numpy import genfromtxt\n",
        "import numpy as np\n",
        "\n",
        "#X = np.genfromtxt(\"Mirai_dataset.csv\",delimiter = \",\")\n",
        "#Y = np.genfromtxt(\"Mirai_labels.csv\",delimiter = \",\")\n",
        "\n",
        "# Load data from file\n",
        "# X = covariates, Y = labels\n",
        "\n",
        "\n",
        "\n",
        "# Save data as numpy arrays, for faster loading in future calls to this cell\n",
        "#np.save('Mirai_data.npy', X)\n",
        "#np.save('Mirai_labels.npy', Y)\n",
        "\n",
        "# Load data from numpy arrays, for faster loading\n",
        "X = np.load('/content/drive/My Drive/DeepLearning Lab1/Mirai_data.npy')\n",
        "Y = np.load('/content/drive/My Drive/DeepLearning Lab1/Mirai_labels.npy')\n",
        "\n",
        "\n",
        "\n",
        "# Remove the first 24 covariates\n",
        "\n",
        "X = X[:,24:]\n",
        "print('The covariates have size {}.'.format(X.shape))\n",
        "print('The labels have size {}.'.format(Y.shape))\n",
        "print(\"The number of examples belonging to class 0 is\", len(Y[Y==0]))\n",
        "print(\"The number of examples belonging to class 0 is\", len(Y[Y==1]))\n",
        "# Print the number of examples of each class\n",
        "    "
      ],
      "execution_count": 0,
      "outputs": [
        {
          "output_type": "stream",
          "text": [
            "The covariates have size (764137, 92).\n",
            "The labels have size (764137,).\n",
            "The number of examples belonging to class 0 is 121621\n",
            "The number of examples belonging to class 0 is 642516\n"
          ],
          "name": "stdout"
        }
      ]
    },
    {
      "cell_type": "code",
      "metadata": {
        "id": "OzTOy3Y4UEV8",
        "colab_type": "code",
        "colab": {}
      },
      "source": [
        ""
      ],
      "execution_count": 0,
      "outputs": []
    },
    {
      "cell_type": "markdown",
      "metadata": {
        "id": "r_xdLY1bUEWG",
        "colab_type": "text"
      },
      "source": [
        "# Part 5: How good is a naive classifier?\n",
        "\n",
        "Question 7: Given the distribution of examples, how high classification performance can a naive classifier obtain? The naive classifier will assume that all examples belong to one class. Note: you do not need to make a naive classifier, this is a theoretical question, just to understand how good performance we can obtain by random chance."
      ]
    },
    {
      "cell_type": "code",
      "metadata": {
        "id": "w58P_gXhUEWI",
        "colab_type": "code",
        "outputId": "032b00c5-d55f-4933-db50-726e5afd47db",
        "colab": {
          "base_uri": "https://localhost:8080/",
          "height": 50
        }
      },
      "source": [
        "# It is common to have NaNs in the data, lets check for it. Hint: np.isnan()\n",
        "\n",
        "\n",
        "# Print the number of NaNs (not a number) in the labels\n",
        "#print(\"The number of NaNs is\", len(np.isnan(Y)))\n",
        "nan_Y = np.isnan(Y)\n",
        "print(len(nan_Y[nan_Y == True]))\n",
        "\n",
        "# Print the number of NaNs in the covariates\n",
        "#print(\"The number of NaNs is\", len(np.isnan(X)))\n",
        "nan_X = np.isnan(Y)\n",
        "print(len(nan_X[nan_X == True]))"
      ],
      "execution_count": 0,
      "outputs": [
        {
          "output_type": "stream",
          "text": [
            "0\n",
            "0\n"
          ],
          "name": "stdout"
        }
      ]
    },
    {
      "cell_type": "markdown",
      "metadata": {
        "id": "DIuQ51xGUEWS",
        "colab_type": "text"
      },
      "source": [
        "# Part 6: Preprocessing\n",
        "\n",
        "Lets do some simple preprocessing"
      ]
    },
    {
      "cell_type": "code",
      "metadata": {
        "id": "n4VKGOovUEWU",
        "colab_type": "code",
        "outputId": "95331702-55d6-4ade-ffec-b1629b9fb01c",
        "colab": {
          "base_uri": "https://localhost:8080/",
          "height": 470
        }
      },
      "source": [
        "# Convert covariates to floats\n",
        "X_f = X.astype(np.float)\n",
        "#print(X_f[1])\n",
        "#print(X[1])\n",
        "\n",
        "# Convert labels to ints\n",
        "Y_f = Y.astype(np.int)\n",
        "\n",
        "\n",
        "# Remove mean of each covariate (column)\n",
        "mean_X = np.mean(X_f,axis=0)\n",
        "sd_X = np.std(X_f,axis=0)\n",
        "#print(sd_X)\n",
        "for i in range(X_f.shape[1]):\n",
        "    X_f[:,i] = X_f[:,i] - mean_X[i]\n",
        "    \n",
        "#print(X_f.mean(axis=0))\n",
        "\n",
        "# Divide each covariate (column) by its standard deviation\n",
        "for i in range(X_f.shape[1]):\n",
        "    X_f[:,i] = X_f[:,i]/sd_X[i]\n",
        "    \n",
        "print(np.mean(X_f,axis=0))\n",
        "print(np.std(X_f,axis=0))\n",
        "\n",
        "# Check that mean is 0 and standard deviation is 1 for all covariates, by printing mean and std\n"
      ],
      "execution_count": 0,
      "outputs": [
        {
          "output_type": "stream",
          "text": [
            "[-3.19451533e-18 -6.30927527e-14  1.19963828e-13  4.56743018e-15\n",
            "  4.08813918e-14  1.46461039e-13  5.65402045e-16 -1.69587525e-14\n",
            " -3.03376191e-13  1.25514109e-12 -2.72042402e-12 -1.10780892e-13\n",
            " -1.22468718e-13 -1.70290612e-13 -1.02139901e-14 -2.32208048e-12\n",
            "  1.40695736e-12  1.20673259e-12 -1.05095447e-13  6.81889584e-14\n",
            " -1.00490973e-13  5.98862427e-14 -1.01547416e-12 -1.66283323e-12\n",
            " -1.58597771e-12 -1.31674067e-13  4.43360813e-13  8.41389037e-13\n",
            "  5.77665264e-14 -4.50766872e-13 -2.54973195e-12  3.12056823e-13\n",
            " -1.53665212e-13  1.69273859e-12  9.50945604e-13  1.50953004e-13\n",
            " -1.01059397e-12 -5.11453792e-13 -1.86373908e-12 -2.09806690e-13\n",
            "  1.03169903e-12 -1.47389966e-12 -1.69587525e-14 -1.64918984e-16\n",
            " -5.13325984e-14 -1.02166240e-14 -1.74685907e-15  1.34329189e-13\n",
            "  5.98601714e-14  1.48745574e-17 -4.24927612e-13  5.77728088e-14\n",
            "  1.25638129e-15  1.71850347e-13  1.50955720e-13  2.14478905e-14\n",
            "  3.65405571e-14  1.21380412e-13 -9.10989074e-13 -6.30800138e-13\n",
            " -1.58038622e-12  2.62938522e-13 -7.57219424e-15 -2.89359393e-14\n",
            " -3.88851503e-13 -1.52984352e-12 -1.03687066e-12  2.75437407e-13\n",
            "  2.44539294e-13 -6.73050928e-15  1.07511476e-13  2.60284113e-13\n",
            " -2.18130768e-13 -1.18954843e-12 -2.82172408e-12  5.45994503e-14\n",
            "  5.46183481e-15  3.71306144e-14  2.33292940e-13 -1.73194638e-12\n",
            " -1.42020216e-13 -1.71843058e-12  5.29632937e-13 -3.21444033e-14\n",
            " -4.59764043e-14  3.53584091e-13 -1.44369337e-12 -1.26142028e-13\n",
            "  1.25980728e-13  1.20260434e-13  4.34647402e-14 -4.07680570e-14]\n",
            "[1. 1. 1. 1. 1. 1. 1. 1. 1. 1. 1. 1. 1. 1. 1. 1. 1. 1. 1. 1. 1. 1. 1. 1.\n",
            " 1. 1. 1. 1. 1. 1. 1. 1. 1. 1. 1. 1. 1. 1. 1. 1. 1. 1. 1. 1. 1. 1. 1. 1.\n",
            " 1. 1. 1. 1. 1. 1. 1. 1. 1. 1. 1. 1. 1. 1. 1. 1. 1. 1. 1. 1. 1. 1. 1. 1.\n",
            " 1. 1. 1. 1. 1. 1. 1. 1. 1. 1. 1. 1. 1. 1. 1. 1. 1. 1. 1. 1.]\n"
          ],
          "name": "stdout"
        }
      ]
    },
    {
      "cell_type": "markdown",
      "metadata": {
        "id": "7XW1kjS3UEWe",
        "colab_type": "text"
      },
      "source": [
        "# Part 7: Split the dataset\n",
        "\n",
        "Use the first 70% of the dataset for training, leave the other 30% for validation and test, call the variables\n",
        "\n",
        "Xtrain (70%)\n",
        "\n",
        "Xtemp  (30%)\n",
        "\n",
        "Ytrain (70%)\n",
        "\n",
        "Ytemp  (30%)\n"
      ]
    },
    {
      "cell_type": "code",
      "metadata": {
        "id": "uKscEABZUEWh",
        "colab_type": "code",
        "outputId": "89f23a7a-1deb-448c-c14c-017704aa8aef",
        "colab": {
          "base_uri": "https://localhost:8080/",
          "height": 84
        }
      },
      "source": [
        "# Your code\n",
        "import math\n",
        "part = math.floor(np.shape(X_f)[0] * 0.7)\n",
        "Xtrain = X_f[:part,:]\n",
        "Xtemp = X_f[part:,:]\n",
        "Ytrain = Y_f[:part]\n",
        "Ytemp = Y_f[part:]\n",
        "\n",
        "\n",
        "print('Xtrain has size {}.'.format(Xtrain.shape))\n",
        "print('Ytrain has size {}.'.format(Ytrain.shape))\n",
        "\n",
        "print('Xtemp has size {}.'.format(Xtemp.shape))\n",
        "print('Ytemp has size {}.'.format(Ytemp.shape))\n",
        "\n",
        "# Print the number of examples of each class, for the training data and the remaining 30%\n",
        "\n"
      ],
      "execution_count": 0,
      "outputs": [
        {
          "output_type": "stream",
          "text": [
            "Xtrain has size (534895, 92).\n",
            "Ytrain has size (534895,).\n",
            "Xtemp has size (229242, 92).\n",
            "Ytemp has size (229242,).\n"
          ],
          "name": "stdout"
        }
      ]
    },
    {
      "cell_type": "code",
      "metadata": {
        "id": "34z_dPlzUEWt",
        "colab_type": "code",
        "outputId": "777480df-19fa-481e-f724-9db2dbb5b55a",
        "colab": {}
      },
      "source": [
        "np.shape(Xtrain)"
      ],
      "execution_count": 0,
      "outputs": [
        {
          "output_type": "execute_result",
          "data": {
            "text/plain": [
              "(534895, 92)"
            ]
          },
          "metadata": {
            "tags": []
          },
          "execution_count": 6
        }
      ]
    },
    {
      "cell_type": "markdown",
      "metadata": {
        "id": "pyY4xwzVUEW2",
        "colab_type": "text"
      },
      "source": [
        "# Part 8: Number of examples per class\n",
        "\n",
        "Question 8: Can we use the dataset as it is? Why not?\n",
        "\n",
        "Lets randomly shuffle the data, to get some examples of each class in training data and in the remaining 30%. Use the function `shuffle` in scikit learn\n",
        "\n",
        "https://scikit-learn.org/stable/modules/generated/sklearn.utils.shuffle.html"
      ]
    },
    {
      "cell_type": "code",
      "metadata": {
        "id": "JWDcWboNUEW4",
        "colab_type": "code",
        "colab": {}
      },
      "source": [
        "from sklearn.utils import shuffle\n",
        "import math\n",
        "\n",
        "# Randomly shuffle data, to get both classes in training and testing\n",
        "X_r_f,Y_r_f = shuffle(X_f,Y_f,random_state = 0)\n",
        "\n",
        "\n",
        "# Divide the data into training and validation/test again\n",
        "\n",
        "part = math.floor(np.shape(X_r_f)[0] * 0.7)\n",
        "Xtrain = X_r_f[:part,:]\n",
        "Xtemp = X_r_f[part:,:]\n",
        "Ytrain = Y_r_f[:part]\n",
        "Ytemp = Y_r_f[part:]\n",
        "\n",
        "# Print the number of examples of each class, for the training data and the remaining 30%\n",
        "\n"
      ],
      "execution_count": 0,
      "outputs": []
    },
    {
      "cell_type": "markdown",
      "metadata": {
        "id": "q8C4l8kFUEW_",
        "colab_type": "text"
      },
      "source": [
        "#  Part 9: Split non-training data data into validation and test\n",
        "Split your non-training data (Xtemp, Ytemp) into 50% validation (Xval, Yval) and 50% testing (Xtest, Ytest), we use a function from scikit learn. \n",
        "\n",
        "https://scikit-learn.org/stable/modules/generated/sklearn.model_selection.train_test_split.html\n"
      ]
    },
    {
      "cell_type": "code",
      "metadata": {
        "id": "NBmYkIEDUEXA",
        "colab_type": "code",
        "outputId": "0b7ed082-f1c9-40aa-93a2-8be4469d60f9",
        "colab": {
          "base_uri": "https://localhost:8080/",
          "height": 34
        }
      },
      "source": [
        "from sklearn.model_selection import train_test_split\n",
        "Xval,Xtest,Yval,Ytest = train_test_split(Xtemp,Ytemp,test_size = 0.5)\n",
        "\n",
        "\n",
        "\n",
        "print('The validation and test data have size {}, {}, {} and {}'.format(Xval.shape, Xtest.shape, Yval.shape, Ytest.shape))"
      ],
      "execution_count": 0,
      "outputs": [
        {
          "output_type": "stream",
          "text": [
            "The validation and test data have size (114621, 92), (114621, 92), (114621,) and (114621,)\n"
          ],
          "name": "stdout"
        }
      ]
    },
    {
      "cell_type": "markdown",
      "metadata": {
        "id": "eRmhBQ0JUEXG",
        "colab_type": "text"
      },
      "source": [
        "# Part 10: DNN classification\n",
        "\n",
        "Finish this code to create a first version of the classifier using a DNN. Start with a simple network with 2 dense layers (with 20 nodes each), using sigmoid activation functions. The final dense layer should have a single node and a sigmoid activation function. We start with the SGD optimizer.\n",
        "\n",
        "Relevant functions are\n",
        "\n",
        "`model.add()`, adds a layer to the network\n",
        "\n",
        "`Dense()`, a dense network layer\n",
        "\n",
        "`model.compile()`, compile the model, add \" metrics=['accuracy'] \" to print the classification accuracy during the training\n",
        "\n",
        "`model.fit()`, train the model with some training data\n",
        "\n",
        "`model.evaluate()`, apply the trained model to some test data\n",
        "\n",
        "See https://keras.io/layers/core/ for information on how the `Dense()` function works\n",
        "\n",
        "Import a relevant cost / loss function for binary classification from keras.losses (https://keras.io/losses/)\n",
        "\n",
        "See https://keras.io/models/model/ for how to compile, train and evaluate the model"
      ]
    },
    {
      "cell_type": "code",
      "metadata": {
        "id": "z3ntlcG3UEXJ",
        "colab_type": "code",
        "colab": {}
      },
      "source": [
        "from keras.models import Sequential, Model\n",
        "from keras.layers import Input, Dense, Dropout\n",
        "from keras.optimizers import SGD\n",
        "from keras.losses import binary_crossentropy\n",
        "import keras.layers\n",
        "from keras.optimizers import Adam\n",
        "\n",
        "# Set seed from random number generator, for better comparisons\n",
        "from numpy.random import seed\n",
        "seed(123)\n",
        "\n",
        "def build_DNN(input_shape, n_layers, n_nodes, act_fun='sigmoid', optimizer='sgd', learning_rate=0.01, \n",
        "              use_bn=False, use_dropout=False, use_custom_dropout=False):\n",
        "    \n",
        "    # Setup optimizer, depending on input parameter string\n",
        "    if (optimizer == \"sgd\"):\n",
        "      opt = SGD(lr = learning_rate)\n",
        "    elif (optimizer == \"adam\"):\n",
        "      opt = Adam(learning_rate=learning_rate, beta_1=0.9, beta_2=0.999, amsgrad=False)\n",
        "    \n",
        "    # Setup a sequential model\n",
        "    model = Sequential()\n",
        "    if(use_bn==True):\n",
        "      keras.layers.BatchNormalization(axis=-1, momentum=0.99, epsilon=0.001,\n",
        "                                    center=True, scale=True, beta_initializer='zeros',\n",
        "                                    gamma_initializer='ones', moving_mean_initializer='zeros',\n",
        "                                    moving_variance_initializer='ones', beta_regularizer=None,\n",
        "                                    gamma_regularizer=None, beta_constraint=None, gamma_constraint=None)\n",
        "      \n",
        "\n",
        "    # Add layers to the model, using the input parameters of the build_DNN function\n",
        "    model.add(Dense(n_nodes,input_shape = input_shape, activation = act_fun))\n",
        "    if(use_dropout == True):\n",
        "      model.add(Dropout(0.5))\n",
        "    elif(use_custom_dropout == True):\n",
        "      model.add(myDropout(0.5))\n",
        "   \n",
        "    \n",
        "    # Add first layer, requires input shape\n",
        "    \n",
        "    # Add remaining layers, do not require input shape\n",
        "    for i in range(n_layers-1):\n",
        "         model.add(Dense(n_nodes, activation = act_fun))\n",
        "         if(use_dropout == True):\n",
        "           model.add(myDropout(0.5)) \n",
        "         elif(use_custom_dropout == True):\n",
        "           model.add(myDropout(0.5))\n",
        "           \n",
        "    \n",
        "    \n",
        "    # Final layer\n",
        "    if(act_fun=='relu'):\n",
        "      model.add(Dense(1, activation = 'sigmoid'))\n",
        "    else:\n",
        "      model.add(Dense(1, activation = act_fun))\n",
        "\n",
        "    \n",
        "    \n",
        "    # Compile model\n",
        "    model.compile(loss = 'binary_crossentropy',optimizer=opt,metrics=['accuracy'])\n",
        "    \n",
        "    \n",
        "    return model"
      ],
      "execution_count": 0,
      "outputs": []
    },
    {
      "cell_type": "code",
      "metadata": {
        "id": "oupSeQPcUEXU",
        "colab_type": "code",
        "colab": {}
      },
      "source": [
        "# Lets define a help function for plotting the training results\n",
        "\n",
        "# IMPORTANT NOTE\n",
        "# The history unfortunately behaves a bit randomly for every user\n",
        "# If the plots for accuracy and loss look mixed, change the order of\n",
        "# val_loss, val_acc, loss, acc\n",
        "# until the plots look as they \"should\"\n",
        "\n",
        "import matplotlib.pyplot as plt\n",
        "def plot_results(history):\n",
        "    val_loss, val_acc, loss, acc = history.history.values()\n",
        "\n",
        "    plt.figure(figsize=(10,4))\n",
        "    plt.xlabel('Epochs')\n",
        "    plt.ylabel('Loss')\n",
        "    plt.plot(loss)\n",
        "    plt.plot(val_loss)\n",
        "    plt.legend(['Training','Validation'])\n",
        "\n",
        "    plt.figure(figsize=(10,4))\n",
        "    plt.xlabel('Epochs')\n",
        "    plt.ylabel('Accuracy')\n",
        "    plt.plot(acc)\n",
        "    plt.plot(val_acc)\n",
        "    plt.legend(['Training','Validation'])\n",
        "\n",
        "    plt.show()"
      ],
      "execution_count": 0,
      "outputs": []
    },
    {
      "cell_type": "markdown",
      "metadata": {
        "id": "v7Zbq_gWUEXY",
        "colab_type": "text"
      },
      "source": [
        "# Part 11: Train the DNN\n",
        "\n",
        "Time to train the DNN, we start simple with 2 layers with 2 nodes each, learning rate 0.1."
      ]
    },
    {
      "cell_type": "markdown",
      "metadata": {
        "id": "zgqYAU-pUEXY",
        "colab_type": "text"
      },
      "source": [
        "### 2 layers, 20 nodes"
      ]
    },
    {
      "cell_type": "code",
      "metadata": {
        "scrolled": true,
        "id": "3QAA55_lUEXZ",
        "colab_type": "code",
        "outputId": "def425f9-b04d-4b65-dc19-f3f5799bacad",
        "colab": {
          "base_uri": "https://localhost:8080/",
          "height": 1000
        }
      },
      "source": [
        "# Setup some training parameters\n",
        "batch_size = 10000\n",
        "epochs = 20\n",
        "n_layers = 2\n",
        "input_shape = Xtrain.shape[1:]\n",
        "n_nodes = 20\n",
        "# Build the model\n",
        "model1 = build_DNN(input_shape, n_layers, n_nodes, act_fun='sigmoid', optimizer='sgd', learning_rate=0.1, \n",
        "              use_bn=False, use_dropout=False, use_custom_dropout=False)\n",
        "\n",
        "# Train the model, provide training data and validation data\n",
        "\n",
        "history1 = model1.fit(Xtrain,Ytrain,validation_data = (Xval,Yval),batch_size = batch_size, epochs = epochs)\n",
        "plot_results(history1)"
      ],
      "execution_count": 0,
      "outputs": [
        {
          "output_type": "stream",
          "text": [
            "Train on 534895 samples, validate on 114621 samples\n",
            "Epoch 1/20\n",
            "534895/534895 [==============================] - 1s 2us/step - loss: 0.4475 - accuracy: 0.8278 - val_loss: 0.4037 - val_accuracy: 0.8401\n",
            "Epoch 2/20\n",
            "534895/534895 [==============================] - 1s 2us/step - loss: 0.3797 - accuracy: 0.8411 - val_loss: 0.3558 - val_accuracy: 0.8401\n",
            "Epoch 3/20\n",
            "534895/534895 [==============================] - 1s 2us/step - loss: 0.3286 - accuracy: 0.8411 - val_loss: 0.3020 - val_accuracy: 0.8401\n",
            "Epoch 4/20\n",
            "534895/534895 [==============================] - 1s 2us/step - loss: 0.2770 - accuracy: 0.8411 - val_loss: 0.2549 - val_accuracy: 0.8401\n",
            "Epoch 5/20\n",
            "534895/534895 [==============================] - 1s 2us/step - loss: 0.2380 - accuracy: 0.8510 - val_loss: 0.2244 - val_accuracy: 0.8586\n",
            "Epoch 6/20\n",
            "534895/534895 [==============================] - 1s 2us/step - loss: 0.2147 - accuracy: 0.8729 - val_loss: 0.2075 - val_accuracy: 0.8958\n",
            "Epoch 7/20\n",
            "534895/534895 [==============================] - 1s 2us/step - loss: 0.2019 - accuracy: 0.9021 - val_loss: 0.1979 - val_accuracy: 0.9053\n",
            "Epoch 8/20\n",
            "534895/534895 [==============================] - 1s 2us/step - loss: 0.1944 - accuracy: 0.9048 - val_loss: 0.1921 - val_accuracy: 0.9054\n",
            "Epoch 9/20\n",
            "534895/534895 [==============================] - 1s 2us/step - loss: 0.1896 - accuracy: 0.9053 - val_loss: 0.1881 - val_accuracy: 0.9058\n",
            "Epoch 10/20\n",
            "534895/534895 [==============================] - 1s 2us/step - loss: 0.1863 - accuracy: 0.9056 - val_loss: 0.1852 - val_accuracy: 0.9059\n",
            "Epoch 11/20\n",
            "534895/534895 [==============================] - 1s 2us/step - loss: 0.1837 - accuracy: 0.9057 - val_loss: 0.1829 - val_accuracy: 0.9061\n",
            "Epoch 12/20\n",
            "534895/534895 [==============================] - 1s 2us/step - loss: 0.1817 - accuracy: 0.9059 - val_loss: 0.1810 - val_accuracy: 0.9064\n",
            "Epoch 13/20\n",
            "534895/534895 [==============================] - 1s 2us/step - loss: 0.1800 - accuracy: 0.9063 - val_loss: 0.1794 - val_accuracy: 0.9068\n",
            "Epoch 14/20\n",
            "534895/534895 [==============================] - 1s 2us/step - loss: 0.1785 - accuracy: 0.9067 - val_loss: 0.1780 - val_accuracy: 0.9073\n",
            "Epoch 15/20\n",
            "534895/534895 [==============================] - 1s 2us/step - loss: 0.1772 - accuracy: 0.9072 - val_loss: 0.1767 - val_accuracy: 0.9079\n",
            "Epoch 16/20\n",
            "534895/534895 [==============================] - 1s 2us/step - loss: 0.1760 - accuracy: 0.9076 - val_loss: 0.1756 - val_accuracy: 0.9082\n",
            "Epoch 17/20\n",
            "534895/534895 [==============================] - 1s 2us/step - loss: 0.1749 - accuracy: 0.9079 - val_loss: 0.1745 - val_accuracy: 0.9085\n",
            "Epoch 18/20\n",
            "534895/534895 [==============================] - 1s 2us/step - loss: 0.1740 - accuracy: 0.9081 - val_loss: 0.1735 - val_accuracy: 0.9086\n",
            "Epoch 19/20\n",
            "534895/534895 [==============================] - 1s 2us/step - loss: 0.1730 - accuracy: 0.9083 - val_loss: 0.1726 - val_accuracy: 0.9087\n",
            "Epoch 20/20\n",
            "534895/534895 [==============================] - 1s 2us/step - loss: 0.1722 - accuracy: 0.9085 - val_loss: 0.1718 - val_accuracy: 0.9091\n"
          ],
          "name": "stdout"
        },
        {
          "output_type": "display_data",
          "data": {
            "image/png": "[encoded data removed]",
            "text/plain": [
              "<Figure size 720x288 with 1 Axes>"
            ]
          },
          "metadata": {
            "tags": [],
            "needs_background": "light"
          }
        },
        {
          "output_type": "display_data",
          "data": {
            "image/png": "[encoded data removed]",
            "text/plain": [
              "<Figure size 720x288 with 1 Axes>"
            ]
          },
          "metadata": {
            "tags": [],
            "needs_background": "light"
          }
        }
      ]
    },
    {
      "cell_type": "code",
      "metadata": {
        "id": "d6d3aFw1UEXc",
        "colab_type": "code",
        "outputId": "79000eb4-729b-4205-930e-57b6d3d0b40f",
        "colab": {}
      },
      "source": [
        ""
      ],
      "execution_count": 0,
      "outputs": [
        {
          "output_type": "error",
          "ename": "NameError",
          "evalue": "name 'history1' is not defined",
          "traceback": [
            "\u001b[0;31m---------------------------------------------------------------------------\u001b[0m",
            "\u001b[0;31mNameError\u001b[0m                                 Traceback (most recent call last)",
            "\u001b[0;32m<ipython-input-12-a51fc07a22b0>\u001b[0m in \u001b[0;36m<module>\u001b[0;34m()\u001b[0m\n\u001b[0;32m----> 1\u001b[0;31m \u001b[0mplot_results\u001b[0m\u001b[0;34m(\u001b[0m\u001b[0mhistory1\u001b[0m\u001b[0;34m)\u001b[0m\u001b[0;34m\u001b[0m\u001b[0m\n\u001b[0m",
            "\u001b[0;31mNameError\u001b[0m: name 'history1' is not defined"
          ]
        }
      ]
    },
    {
      "cell_type": "code",
      "metadata": {
        "id": "smp2TwhSUEXh",
        "colab_type": "code",
        "outputId": "f2cd8888-5d9c-4cb3-9cd2-ac41b04a0574",
        "colab": {
          "base_uri": "https://localhost:8080/",
          "height": 50
        }
      },
      "source": [
        "# Evaluate the model on the test data\n",
        "score = model1.evaluate(Xtest,Ytest,verbose=0)\n",
        "\n",
        "print('Test loss: %.4f' % score[0])\n",
        "print('Test accuracy: %.4f' % score[1])"
      ],
      "execution_count": 0,
      "outputs": [
        {
          "output_type": "stream",
          "text": [
            "Test loss: 0.1717\n",
            "Test accuracy: 0.9086\n"
          ],
          "name": "stdout"
        }
      ]
    },
    {
      "cell_type": "code",
      "metadata": {
        "id": "CaDmhcplUEXk",
        "colab_type": "code",
        "outputId": "f4f84e0a-8158-4504-f755-7279e070732b",
        "colab": {
          "base_uri": "https://localhost:8080/",
          "height": 541
        }
      },
      "source": [
        "# Plot the history from the training run\n",
        "plot_results(history1)"
      ],
      "execution_count": 0,
      "outputs": [
        {
          "output_type": "display_data",
          "data": {
            "image/png": "[encoded data removed]",
            "text/plain": [
              "<Figure size 720x288 with 1 Axes>"
            ]
          },
          "metadata": {
            "tags": [],
            "needs_background": "light"
          }
        },
        {
          "output_type": "display_data",
          "data": {
            "image/png": "[encoded data removed]",
            "text/plain": [
              "<Figure size 720x288 with 1 Axes>"
            ]
          },
          "metadata": {
            "tags": [],
            "needs_background": "light"
          }
        }
      ]
    },
    {
      "cell_type": "markdown",
      "metadata": {
        "id": "R4SPjzbuUEXn",
        "colab_type": "text"
      },
      "source": [
        "# Part 12: More questions\n",
        "\n",
        "Question 9: What happens if you add several Dense layers without specifying the activation function?\n",
        "\n",
        "Question 10: How are the weights in each dense layer initialized as default? How are the bias weights initialized?\n"
      ]
    },
    {
      "cell_type": "markdown",
      "metadata": {
        "id": "F1l2EjpsUEXo",
        "colab_type": "text"
      },
      "source": [
        "# Part 13: Balancing the classes\n",
        "\n",
        "This dataset is rather unbalanced, we need to define class weights so that the training pays more attention to the class with fewer samples. We use a function in scikit learn\n",
        "\n",
        "https://scikit-learn.org/stable/modules/generated/sklearn.utils.class_weight.compute_class_weight.html"
      ]
    },
    {
      "cell_type": "code",
      "metadata": {
        "id": "I0GvRIvLUEXp",
        "colab_type": "code",
        "outputId": "9e8b79b9-e3eb-4672-e54f-321516913319",
        "colab": {
          "base_uri": "https://localhost:8080/",
          "height": 34
        }
      },
      "source": [
        "from sklearn.utils import class_weight\n",
        "\n",
        "# Calculate class weights\n",
        "#n_samples = Xtrain.shape[0]\n",
        "#n_classes = 2\n",
        "#class_weights = n_samples / (n_classes * np.bincount(Ytrain))\n",
        "#class_weights = np.array([0.25,4.056])\n",
        "class_weights = class_weight.compute_class_weight(\"balanced\", np.unique(Ytrain), Ytrain)\n",
        "# Print the class weights\n",
        "print(class_weights)"
      ],
      "execution_count": 0,
      "outputs": [
        {
          "output_type": "stream",
          "text": [
            "[3.14607105 0.5944797 ]\n"
          ],
          "name": "stdout"
        }
      ]
    },
    {
      "cell_type": "code",
      "metadata": {
        "id": "dnI-CeaP-i_1",
        "colab_type": "code",
        "outputId": "0a9a2a08-a64f-42c5-e00f-bde964d929b4",
        "colab": {
          "base_uri": "https://localhost:8080/",
          "height": 34
        }
      },
      "source": [
        "class_weights = n_samples / (n_classes * np.bincount(Ytrain))\n",
        "print(class_weights)"
      ],
      "execution_count": 0,
      "outputs": [
        {
          "output_type": "stream",
          "text": [
            "[3.14607105 0.5944797 ]\n"
          ],
          "name": "stdout"
        }
      ]
    },
    {
      "cell_type": "markdown",
      "metadata": {
        "id": "IeW_djZ3UEXr",
        "colab_type": "text"
      },
      "source": [
        "### 2 layers, 20 nodes, class weights"
      ]
    },
    {
      "cell_type": "code",
      "metadata": {
        "scrolled": true,
        "id": "gmkuqaSSUEXr",
        "colab_type": "code",
        "colab": {}
      },
      "source": [
        "# Setup some training parameters\n",
        "batch_size = 10000\n",
        "epochs = 20\n",
        "input_shape = Xtrain.shape[1:]\n",
        "\n",
        "# Build and train model\n",
        "model2 = build_DNN(input_shape, n_layers = 2, n_nodes = 20, act_fun='sigmoid', optimizer='sgd', learning_rate=0.1, \n",
        "              use_bn=False, use_dropout=False, use_custom_dropout=False)\n",
        "\n",
        "history2 = model1.fit(Xtrain,Ytrain,validation_data = (Xval,Yval),batch_size = batch_size, epochs = epochs, class_weight=class_weights)"
      ],
      "execution_count": 0,
      "outputs": []
    },
    {
      "cell_type": "code",
      "metadata": {
        "id": "kLoHDwYaUEXu",
        "colab_type": "code",
        "outputId": "57879e2f-42d8-4df6-935e-900d8c1e669e",
        "colab": {
          "base_uri": "https://localhost:8080/",
          "height": 50
        }
      },
      "source": [
        "# Evaluate model on test data\n",
        "score = model2.evaluate(Xtest,Ytest,verbose=0)\n",
        "\n",
        "print('Test loss: %.4f' % score[0])\n",
        "print('Test accuracy: %.4f' % score[1])"
      ],
      "execution_count": 0,
      "outputs": [
        {
          "output_type": "stream",
          "text": [
            "Test loss: 0.4376\n",
            "Test accuracy: 0.8405\n"
          ],
          "name": "stdout"
        }
      ]
    },
    {
      "cell_type": "code",
      "metadata": {
        "id": "-qjVPJHDUEXw",
        "colab_type": "code",
        "colab": {}
      },
      "source": [
        "plot_results(history2)"
      ],
      "execution_count": 0,
      "outputs": []
    },
    {
      "cell_type": "markdown",
      "metadata": {
        "id": "66bi01tYUEXz",
        "colab_type": "text"
      },
      "source": [
        "# Part 14: More questions\n",
        "\n",
        "Question 11: Why do we have to use a batch size? Why can't we simply use all data at once? This is more relevant for even larger datasets.\n",
        "\n",
        "Question 12: How busy is the GPU for a batch size of 100? How much GPU memory is used? Hint: run 'nvidia-smi' on the cloud computer a few times during training.\n",
        "\n",
        "Question 13: What is the processing time for one training epoch when the batch size is 100? What is the processing time for one epoch when the batch size is 1,000? What is the processing time for one epoch when the batch size is 10,000? Explain the results. \n",
        "\n",
        "Question 14: How many times are the weights in the DNN updated in each training epoch if the batch size is 100? How many times are the weights in the DNN updated in each training epoch if the batch size is 1,000? How many times are the weights in the DNN updated in each training epoch if the batch size is 10,000?  \n",
        "\n",
        "Question 15: What limits how large the batch size can be?\n",
        "\n",
        "Question 16: Generally speaking, how is the learning rate related to the batch size? If the batch size is decreased, how should the learning rate be changed?\n",
        "\n",
        "Lets use a batch size of 10,000 from now on, and a learning rate of 0.1."
      ]
    },
    {
      "cell_type": "markdown",
      "metadata": {
        "id": "y-s9TORxUEXz",
        "colab_type": "text"
      },
      "source": [
        "# Part 15: Increasing the complexity\n",
        "\n",
        "Lets try some different configurations of number of layers and number of nodes per layer.\n",
        "\n",
        "Question 17: How many trainable parameters does the network with 4 dense layers with 50 nodes each have, compared to the initial network with 2 layers and 20 nodes per layer? Hint: use model.summary()"
      ]
    },
    {
      "cell_type": "markdown",
      "metadata": {
        "id": "PMUfhZDwUEX1",
        "colab_type": "text"
      },
      "source": [
        "### 4 layers, 20 nodes, class weights"
      ]
    },
    {
      "cell_type": "code",
      "metadata": {
        "scrolled": true,
        "id": "LAGRjsRIUEX2",
        "colab_type": "code",
        "colab": {}
      },
      "source": [
        "# Setup some training parameters\n",
        "batch_size = 10000\n",
        "epochs = 20\n",
        "input_shape = Xtrain.shape[1:]\n",
        "\n",
        "# Build and train model\n",
        "model3 = build_DNN(input_shape, n_layers = 4, n_nodes = 20, act_fun='sigmoid', optimizer='sgd', learning_rate=0.1, \n",
        "              use_bn=False, use_dropout=False, use_custom_dropout=False)\n",
        "\n",
        "history3 = model3.fit(Xtrain,Ytrain,validation_data = (Xval,Yval),batch_size = batch_size, epochs = epochs, class_weight=class_weights)\n"
      ],
      "execution_count": 0,
      "outputs": []
    },
    {
      "cell_type": "code",
      "metadata": {
        "id": "UONcs7YiUEX5",
        "colab_type": "code",
        "outputId": "eda02fc7-e2e6-4b26-904b-5400261ac2c1",
        "colab": {
          "base_uri": "https://localhost:8080/",
          "height": 50
        }
      },
      "source": [
        "# Evaluate model on test data\n",
        "score = model3.evaluate(Xtest,Ytest,verbose=0)\n",
        "\n",
        "print('Test loss: %.4f' % score[0])\n",
        "print('Test accuracy: %.4f' % score[1])"
      ],
      "execution_count": 0,
      "outputs": [
        {
          "output_type": "stream",
          "text": [
            "Test loss: 0.4327\n",
            "Test accuracy: 0.8405\n"
          ],
          "name": "stdout"
        }
      ]
    },
    {
      "cell_type": "code",
      "metadata": {
        "id": "LTnNh_M6UEX7",
        "colab_type": "code",
        "colab": {}
      },
      "source": [
        "plot_results(history3)"
      ],
      "execution_count": 0,
      "outputs": []
    },
    {
      "cell_type": "markdown",
      "metadata": {
        "id": "PRNPMPv7UEX9",
        "colab_type": "text"
      },
      "source": [
        "### 2 layers, 50 nodes, class weights"
      ]
    },
    {
      "cell_type": "code",
      "metadata": {
        "scrolled": true,
        "id": "VIQug-biUEX9",
        "colab_type": "code",
        "colab": {}
      },
      "source": [
        "# Setup some training parameters\n",
        "batch_size = 10000\n",
        "epochs = 20\n",
        "input_shape = Xtrain.shape[1:]\n",
        "\n",
        "# Build and train model\n",
        "model4 = build_DNN(input_shape, n_layers = 2, n_nodes = 50, act_fun='sigmoid', optimizer='sgd', learning_rate=0.1, \n",
        "              use_bn=False, use_dropout=False, use_custom_dropout=False)\n",
        "\n",
        "history4 = model4.fit(Xtrain,Ytrain,validation_data = (Xval,Yval),batch_size = batch_size, epochs = epochs, class_weight=class_weights) "
      ],
      "execution_count": 0,
      "outputs": []
    },
    {
      "cell_type": "code",
      "metadata": {
        "id": "-baaX-wsUEYA",
        "colab_type": "code",
        "outputId": "d7976ed2-efcd-4fc8-f322-3e79b145c9f1",
        "colab": {
          "base_uri": "https://localhost:8080/",
          "height": 50
        }
      },
      "source": [
        "# Evaluate model on test data\n",
        "score = model4.evaluate(Xtest,Ytest,verbose=0)\n",
        "\n",
        "print('Test loss: %.4f' % score[0])\n",
        "print('Test accuracy: %.4f' % score[1])"
      ],
      "execution_count": 0,
      "outputs": [
        {
          "output_type": "stream",
          "text": [
            "Test loss: 0.1717\n",
            "Test accuracy: 0.9083\n"
          ],
          "name": "stdout"
        }
      ]
    },
    {
      "cell_type": "code",
      "metadata": {
        "id": "W8ndB5lmUEYC",
        "colab_type": "code",
        "colab": {}
      },
      "source": [
        "plot_results(history4)"
      ],
      "execution_count": 0,
      "outputs": []
    },
    {
      "cell_type": "markdown",
      "metadata": {
        "id": "-u193oGfUEYF",
        "colab_type": "text"
      },
      "source": [
        "### 4 layers, 50 nodes, class weights"
      ]
    },
    {
      "cell_type": "code",
      "metadata": {
        "scrolled": true,
        "id": "2eCqzAfZUEYG",
        "colab_type": "code",
        "colab": {}
      },
      "source": [
        "# Setup some training parameters\n",
        "batch_size = 10000\n",
        "epochs = 20\n",
        "input_shape = Xtrain.shape[1:]\n",
        "\n",
        "# Build and train model\n",
        "model5 = build_DNN(input_shape, n_layers = 4, n_nodes = 50, act_fun='sigmoid', optimizer='sgd', learning_rate=0.1, \n",
        "              use_bn=False, use_dropout=False, use_custom_dropout=False)\n",
        "\n",
        "history5 = model5.fit(Xtrain,Ytrain,validation_data = (Xval,Yval),batch_size = batch_size, epochs = epochs, class_weight=class_weights) \n"
      ],
      "execution_count": 0,
      "outputs": []
    },
    {
      "cell_type": "code",
      "metadata": {
        "id": "d6Y7lC6yUEYI",
        "colab_type": "code",
        "outputId": "02a7dadb-7280-4b2b-80fb-3d129e675c7a",
        "colab": {
          "base_uri": "https://localhost:8080/",
          "height": 50
        }
      },
      "source": [
        "# Evaluate model on test data\n",
        "score = model5.evaluate(Xtest,Ytest,verbose=0)\n",
        "\n",
        "\n",
        "print('Test loss: %.4f' % score[0])\n",
        "print('Test accuracy: %.4f' % score[1])"
      ],
      "execution_count": 0,
      "outputs": [
        {
          "output_type": "stream",
          "text": [
            "Test loss: 0.4212\n",
            "Test accuracy: 0.8405\n"
          ],
          "name": "stdout"
        }
      ]
    },
    {
      "cell_type": "code",
      "metadata": {
        "id": "RHyjVSwBUEYL",
        "colab_type": "code",
        "colab": {}
      },
      "source": [
        "plot_results(history5)"
      ],
      "execution_count": 0,
      "outputs": []
    },
    {
      "cell_type": "markdown",
      "metadata": {
        "id": "eLdgSb6yUEYN",
        "colab_type": "text"
      },
      "source": [
        "# Part 16: Batch normalization\n",
        "\n",
        "Now add batch normalization after each dense layer. Remember to import BatchNormalization from keras.layers. \n",
        "\n",
        "See https://keras.io/layers/normalization/ for information about how to call the function.\n",
        "\n",
        "Question 18: Why is batch normalization important when training deep networks?"
      ]
    },
    {
      "cell_type": "markdown",
      "metadata": {
        "id": "ALoX0B9eUEYN",
        "colab_type": "text"
      },
      "source": [
        "### 2 layers, 20 nodes, class weights, batch normalization"
      ]
    },
    {
      "cell_type": "code",
      "metadata": {
        "scrolled": true,
        "id": "fxQswF_xUEYO",
        "colab_type": "code",
        "colab": {}
      },
      "source": [
        "# Setup some training parameters\n",
        "batch_size = 10000\n",
        "epochs = 20\n",
        "input_shape = Xtrain.shape[1:]\n",
        "\n",
        "# Build and train model\n",
        "model6 = build_DNN(input_shape, n_layers = 2, n_nodes = 20, act_fun='sigmoid', optimizer='sgd', learning_rate=0.1, \n",
        "              use_bn=True, use_dropout=False, use_custom_dropout=False)\n",
        "\n",
        "history6 = model6.fit(Xtrain,Ytrain,validation_data = (Xval,Yval),batch_size = batch_size, epochs = epochs, class_weight=class_weights) \n"
      ],
      "execution_count": 0,
      "outputs": []
    },
    {
      "cell_type": "code",
      "metadata": {
        "id": "QFUFuBpfUEYQ",
        "colab_type": "code",
        "outputId": "ee8c5da0-56b8-4ca7-93b3-f020f711d66e",
        "colab": {
          "base_uri": "https://localhost:8080/",
          "height": 50
        }
      },
      "source": [
        "# Evaluate model on test data\n",
        "score = model6.evaluate(Xtest,Ytest,verbose=0)\n",
        "\n",
        "print('Test loss: %.4f' % score[0])\n",
        "print('Test accuracy: %.4f' % score[1])"
      ],
      "execution_count": 0,
      "outputs": [
        {
          "output_type": "stream",
          "text": [
            "Test loss: 0.1716\n",
            "Test accuracy: 0.9079\n"
          ],
          "name": "stdout"
        }
      ]
    },
    {
      "cell_type": "code",
      "metadata": {
        "id": "8yqEnLigUEYS",
        "colab_type": "code",
        "colab": {}
      },
      "source": [
        "plot_results(history6)"
      ],
      "execution_count": 0,
      "outputs": []
    },
    {
      "cell_type": "markdown",
      "metadata": {
        "id": "GWOZYWA2UEYV",
        "colab_type": "text"
      },
      "source": [
        "# Part 17: Activation function\n",
        "\n",
        "Try changing the activation function in each layer from sigmoid to ReLU, write down the test accuracy.\n",
        "\n",
        "Note: the last layer should still have a sigmoid activation function."
      ]
    },
    {
      "cell_type": "markdown",
      "metadata": {
        "id": "dTld2DSbUEYW",
        "colab_type": "text"
      },
      "source": [
        "### 2 layers, 20 nodes, class weights, ReLU, no batch normalization"
      ]
    },
    {
      "cell_type": "code",
      "metadata": {
        "scrolled": true,
        "id": "ZnWWqv9sUEYW",
        "colab_type": "code",
        "colab": {}
      },
      "source": [
        "# Setup some training parameters\n",
        "batch_size = 10000\n",
        "epochs = 20\n",
        "input_shape = Xtrain.shape[1:]\n",
        "\n",
        "# Build and train model\n",
        "model7 = build_DNN(input_shape, n_layers = 2, n_nodes = 20, act_fun='relu', optimizer='sgd', learning_rate=0.1, \n",
        "              use_bn=False, use_dropout=False, use_custom_dropout=False)\n",
        "\n",
        "history7 = model7.fit(Xtrain,Ytrain,validation_data = (Xval,Yval),batch_size = batch_size, epochs = epochs, class_weight=class_weights)\n"
      ],
      "execution_count": 0,
      "outputs": []
    },
    {
      "cell_type": "code",
      "metadata": {
        "id": "7UsReh_uUEYZ",
        "colab_type": "code",
        "outputId": "f546ad9e-d3c9-45c0-c89c-43802a1ce07f",
        "colab": {
          "base_uri": "https://localhost:8080/",
          "height": 50
        }
      },
      "source": [
        "# Evaluate model on test data\n",
        "score = model7.evaluate(Xtest,Ytest,verbose=0)\n",
        "\n",
        "print('Test loss: %.4f' % score[0])\n",
        "print('Test accuracy: %.4f' % score[1])"
      ],
      "execution_count": 0,
      "outputs": [
        {
          "output_type": "stream",
          "text": [
            "Test loss: 0.1519\n",
            "Test accuracy: 0.9183\n"
          ],
          "name": "stdout"
        }
      ]
    },
    {
      "cell_type": "code",
      "metadata": {
        "id": "550kbIyRUEYc",
        "colab_type": "code",
        "colab": {}
      },
      "source": [
        "plot_results(history7)"
      ],
      "execution_count": 0,
      "outputs": []
    },
    {
      "cell_type": "markdown",
      "metadata": {
        "id": "na98Rv6kUEYe",
        "colab_type": "text"
      },
      "source": [
        "# Part 18: Optimizer\n",
        "\n",
        "Try changing the optimizer from SGD to Adam (with learning rate 0.1 as before). Remember to import the Adam optimizer from keras.optimizers. \n",
        "\n",
        "https://keras.io/optimizers/\n"
      ]
    },
    {
      "cell_type": "markdown",
      "metadata": {
        "id": "X5QtNvQ1UEYe",
        "colab_type": "text"
      },
      "source": [
        "### 2 layers, 20 nodes, class weights, Adam optimizer, no batch normalization, sigmoid activations"
      ]
    },
    {
      "cell_type": "code",
      "metadata": {
        "scrolled": true,
        "id": "PpCE5FEMUEYe",
        "colab_type": "code",
        "outputId": "fdb06f3e-bf96-4fbb-e19c-529659a43f5e",
        "colab": {
          "base_uri": "https://localhost:8080/",
          "height": 706
        }
      },
      "source": [
        "# Setup some training parameters\n",
        "batch_size = 10000\n",
        "epochs = 20\n",
        "input_shape = Xtrain.shape[1:]\n",
        "\n",
        "# Build and train model\n",
        "model8 = build_DNN(input_shape, n_layers = 2, n_nodes = 20, act_fun='sigmoid', optimizer='adam', learning_rate=0.1, \n",
        "              use_bn=False, use_dropout=False, use_custom_dropout=False)\n",
        "\n",
        "history8 = model8.fit(Xtrain,Ytrain,validation_data = (Xval,Yval),batch_size = batch_size, epochs = epochs, class_weight=class_weights)\n"
      ],
      "execution_count": 0,
      "outputs": [
        {
          "output_type": "stream",
          "text": [
            "Train on 534895 samples, validate on 114621 samples\n",
            "Epoch 1/20\n",
            "534895/534895 [==============================] - 1s 3us/step - loss: 0.2227 - accuracy: 0.8747 - val_loss: 0.1757 - val_accuracy: 0.9045\n",
            "Epoch 2/20\n",
            "534895/534895 [==============================] - 1s 2us/step - loss: 0.1693 - accuracy: 0.9097 - val_loss: 0.1651 - val_accuracy: 0.9133\n",
            "Epoch 3/20\n",
            "534895/534895 [==============================] - 1s 2us/step - loss: 0.1641 - accuracy: 0.9131 - val_loss: 0.1627 - val_accuracy: 0.9142\n",
            "Epoch 4/20\n",
            "534895/534895 [==============================] - 1s 2us/step - loss: 0.1623 - accuracy: 0.9142 - val_loss: 0.1615 - val_accuracy: 0.9154\n",
            "Epoch 5/20\n",
            "534895/534895 [==============================] - 1s 2us/step - loss: 0.1609 - accuracy: 0.9146 - val_loss: 0.1603 - val_accuracy: 0.9159\n",
            "Epoch 6/20\n",
            "534895/534895 [==============================] - 1s 2us/step - loss: 0.1599 - accuracy: 0.9157 - val_loss: 0.1599 - val_accuracy: 0.9160\n",
            "Epoch 7/20\n",
            "534895/534895 [==============================] - 1s 2us/step - loss: 0.1599 - accuracy: 0.9156 - val_loss: 0.1600 - val_accuracy: 0.9157\n",
            "Epoch 8/20\n",
            "534895/534895 [==============================] - 1s 2us/step - loss: 0.1597 - accuracy: 0.9156 - val_loss: 0.1597 - val_accuracy: 0.9156\n",
            "Epoch 9/20\n",
            "534895/534895 [==============================] - 1s 2us/step - loss: 0.1593 - accuracy: 0.9159 - val_loss: 0.1592 - val_accuracy: 0.9157\n",
            "Epoch 10/20\n",
            "534895/534895 [==============================] - 1s 2us/step - loss: 0.1591 - accuracy: 0.9156 - val_loss: 0.1579 - val_accuracy: 0.9170\n",
            "Epoch 11/20\n",
            "534895/534895 [==============================] - 1s 2us/step - loss: 0.1585 - accuracy: 0.9161 - val_loss: 0.1582 - val_accuracy: 0.9165\n",
            "Epoch 12/20\n",
            "534895/534895 [==============================] - 1s 2us/step - loss: 0.1584 - accuracy: 0.9164 - val_loss: 0.1571 - val_accuracy: 0.9173\n",
            "Epoch 13/20\n",
            "534895/534895 [==============================] - 1s 2us/step - loss: 0.1581 - accuracy: 0.9164 - val_loss: 0.1584 - val_accuracy: 0.9167\n",
            "Epoch 14/20\n",
            "534895/534895 [==============================] - 1s 2us/step - loss: 0.1580 - accuracy: 0.9166 - val_loss: 0.1573 - val_accuracy: 0.9175\n",
            "Epoch 15/20\n",
            "534895/534895 [==============================] - 1s 2us/step - loss: 0.1578 - accuracy: 0.9164 - val_loss: 0.1567 - val_accuracy: 0.9175\n",
            "Epoch 16/20\n",
            "534895/534895 [==============================] - 1s 2us/step - loss: 0.1575 - accuracy: 0.9169 - val_loss: 0.1570 - val_accuracy: 0.9171\n",
            "Epoch 17/20\n",
            "534895/534895 [==============================] - 1s 2us/step - loss: 0.1575 - accuracy: 0.9166 - val_loss: 0.1570 - val_accuracy: 0.9173\n",
            "Epoch 18/20\n",
            "534895/534895 [==============================] - 1s 2us/step - loss: 0.1578 - accuracy: 0.9161 - val_loss: 0.1565 - val_accuracy: 0.9172\n",
            "Epoch 19/20\n",
            "534895/534895 [==============================] - 1s 2us/step - loss: 0.1573 - accuracy: 0.9164 - val_loss: 0.1572 - val_accuracy: 0.9169\n",
            "Epoch 20/20\n",
            "534895/534895 [==============================] - 1s 2us/step - loss: 0.1573 - accuracy: 0.9164 - val_loss: 0.1564 - val_accuracy: 0.9174\n"
          ],
          "name": "stdout"
        }
      ]
    },
    {
      "cell_type": "code",
      "metadata": {
        "id": "PEQNqqbLUEYi",
        "colab_type": "code",
        "outputId": "27078e5f-7d6b-46dc-8b0c-a3e3f04facd8",
        "colab": {
          "base_uri": "https://localhost:8080/",
          "height": 50
        }
      },
      "source": [
        "# Evaluate model on test data\n",
        "score = model8.evaluate(Xtest,Ytest,verbose=0)\n",
        "\n",
        "print('Test loss: %.4f' % score[0])\n",
        "print('Test accuracy: %.4f' % score[1])"
      ],
      "execution_count": 0,
      "outputs": [
        {
          "output_type": "stream",
          "text": [
            "Test loss: 0.1569\n",
            "Test accuracy: 0.9169\n"
          ],
          "name": "stdout"
        }
      ]
    },
    {
      "cell_type": "code",
      "metadata": {
        "id": "AQbQCLKXUEYp",
        "colab_type": "code",
        "colab": {}
      },
      "source": [
        "plot_results(history8)"
      ],
      "execution_count": 0,
      "outputs": []
    },
    {
      "cell_type": "markdown",
      "metadata": {
        "id": "oIrfHVAuUEYr",
        "colab_type": "text"
      },
      "source": [
        "# Part 19: Dropout regularization\n",
        "\n",
        "Dropout is a type of regularization that can improve accuracy for validation and test data. \n",
        "\n",
        "Add a Dropout layer after each Dense layer (but not after the final dense layer), with a dropout probability of 50%. Remember to first import the Dropout layer from keras.layers\n",
        "\n",
        "See https://keras.io/layers/core/ for how the Dropout layer works.\n",
        "\n",
        "---\n",
        "\n",
        "Question 19: How does the validation accuracy change when adding dropout?\n",
        "\n",
        "Question 20: How does the test accuracy change when adding dropout?"
      ]
    },
    {
      "cell_type": "markdown",
      "metadata": {
        "id": "VvTFJJVtUEYr",
        "colab_type": "text"
      },
      "source": [
        "### 2 layers, 20 nodes, class weights, dropout, SGD optimizer, no batch normalization, sigmoid activations"
      ]
    },
    {
      "cell_type": "code",
      "metadata": {
        "scrolled": true,
        "id": "fmvYDXQQUEYs",
        "colab_type": "code",
        "outputId": "5a6375ab-3c84-40e0-cf72-c6979aa83f45",
        "colab": {
          "base_uri": "https://localhost:8080/",
          "height": 706
        }
      },
      "source": [
        "# Setup some training parameters\n",
        "batch_size = 10000\n",
        "epochs = 20\n",
        "input_shape = Xtrain.shape[1:]\n",
        "\n",
        "# Build and train model\n",
        "model9 =  build_DNN(input_shape, n_layers = 2, n_nodes = 20, act_fun='sigmoid', optimizer='sgd', learning_rate=0.1, \n",
        "              use_bn=False, use_dropout=True, use_custom_dropout=False)\n",
        "\n",
        "history9 = model9.fit(Xtrain,Ytrain,validation_data = (Xval,Yval),batch_size = batch_size, epochs = epochs, class_weight=class_weights)\n"
      ],
      "execution_count": 0,
      "outputs": [
        {
          "output_type": "stream",
          "text": [
            "Train on 534895 samples, validate on 114621 samples\n",
            "Epoch 1/20\n",
            "534895/534895 [==============================] - 1s 2us/step - loss: 0.4881 - accuracy: 0.7997 - val_loss: 0.4427 - val_accuracy: 0.8378\n",
            "Epoch 2/20\n",
            "534895/534895 [==============================] - 1s 2us/step - loss: 0.4285 - accuracy: 0.8397 - val_loss: 0.4176 - val_accuracy: 0.8393\n",
            "Epoch 3/20\n",
            "534895/534895 [==============================] - 1s 2us/step - loss: 0.4055 - accuracy: 0.8406 - val_loss: 0.3953 - val_accuracy: 0.8400\n",
            "Epoch 4/20\n",
            "534895/534895 [==============================] - 1s 2us/step - loss: 0.3829 - accuracy: 0.8409 - val_loss: 0.3718 - val_accuracy: 0.8401\n",
            "Epoch 5/20\n",
            "534895/534895 [==============================] - 1s 2us/step - loss: 0.3598 - accuracy: 0.8411 - val_loss: 0.3491 - val_accuracy: 0.8413\n",
            "Epoch 6/20\n",
            "534895/534895 [==============================] - 1s 2us/step - loss: 0.3369 - accuracy: 0.8431 - val_loss: 0.3277 - val_accuracy: 0.8434\n",
            "Epoch 7/20\n",
            "534895/534895 [==============================] - 1s 2us/step - loss: 0.3170 - accuracy: 0.8464 - val_loss: 0.3076 - val_accuracy: 0.8487\n",
            "Epoch 8/20\n",
            "534895/534895 [==============================] - 1s 2us/step - loss: 0.2991 - accuracy: 0.8504 - val_loss: 0.2919 - val_accuracy: 0.8517\n",
            "Epoch 9/20\n",
            "534895/534895 [==============================] - 1s 2us/step - loss: 0.2852 - accuracy: 0.8538 - val_loss: 0.2802 - val_accuracy: 0.8552\n",
            "Epoch 10/20\n",
            "534895/534895 [==============================] - 1s 2us/step - loss: 0.2741 - accuracy: 0.8569 - val_loss: 0.2702 - val_accuracy: 0.8575\n",
            "Epoch 11/20\n",
            "534895/534895 [==============================] - 1s 2us/step - loss: 0.2662 - accuracy: 0.8589 - val_loss: 0.2624 - val_accuracy: 0.8598\n",
            "Epoch 12/20\n",
            "534895/534895 [==============================] - 1s 2us/step - loss: 0.2593 - accuracy: 0.8609 - val_loss: 0.2559 - val_accuracy: 0.8622\n",
            "Epoch 13/20\n",
            "534895/534895 [==============================] - 1s 2us/step - loss: 0.2529 - accuracy: 0.8627 - val_loss: 0.2517 - val_accuracy: 0.8625\n",
            "Epoch 14/20\n",
            "534895/534895 [==============================] - 1s 2us/step - loss: 0.2478 - accuracy: 0.8646 - val_loss: 0.2467 - val_accuracy: 0.8645\n",
            "Epoch 15/20\n",
            "534895/534895 [==============================] - 1s 2us/step - loss: 0.2445 - accuracy: 0.8652 - val_loss: 0.2420 - val_accuracy: 0.8672\n",
            "Epoch 16/20\n",
            "534895/534895 [==============================] - 1s 2us/step - loss: 0.2412 - accuracy: 0.8667 - val_loss: 0.2403 - val_accuracy: 0.8672\n",
            "Epoch 17/20\n",
            "534895/534895 [==============================] - 1s 2us/step - loss: 0.2375 - accuracy: 0.8673 - val_loss: 0.2361 - val_accuracy: 0.8671\n",
            "Epoch 18/20\n",
            "534895/534895 [==============================] - 1s 2us/step - loss: 0.2351 - accuracy: 0.8679 - val_loss: 0.2343 - val_accuracy: 0.8685\n",
            "Epoch 19/20\n",
            "534895/534895 [==============================] - 1s 2us/step - loss: 0.2330 - accuracy: 0.8688 - val_loss: 0.2322 - val_accuracy: 0.8684\n",
            "Epoch 20/20\n",
            "534895/534895 [==============================] - 1s 2us/step - loss: 0.2306 - accuracy: 0.8695 - val_loss: 0.2291 - val_accuracy: 0.8703\n"
          ],
          "name": "stdout"
        }
      ]
    },
    {
      "cell_type": "code",
      "metadata": {
        "id": "QJ_wqyplUEYu",
        "colab_type": "code",
        "outputId": "88eeb1c2-49af-4034-e15f-c62ac76e0fe8",
        "colab": {
          "base_uri": "https://localhost:8080/",
          "height": 50
        }
      },
      "source": [
        "# Evaluate model on test data\n",
        "score = model9.evaluate(Xtest,Ytest,verbose=0)\n",
        "\n",
        "print('Test loss: %.4f' % score[0])\n",
        "print('Test accuracy: %.4f' % score[1])"
      ],
      "execution_count": 0,
      "outputs": [
        {
          "output_type": "stream",
          "text": [
            "Test loss: 0.2293\n",
            "Test accuracy: 0.8704\n"
          ],
          "name": "stdout"
        }
      ]
    },
    {
      "cell_type": "code",
      "metadata": {
        "id": "Ocryr1CXUEYx",
        "colab_type": "code",
        "colab": {}
      },
      "source": [
        "plot_results(history9)"
      ],
      "execution_count": 0,
      "outputs": []
    },
    {
      "cell_type": "markdown",
      "metadata": {
        "id": "qv7SrMDhUEYz",
        "colab_type": "text"
      },
      "source": [
        "# Part 20: Improving performance\n",
        "\n",
        "Spend some time (30 - 90 minutes) playing with the network architecture (number of layers, number of nodes per layer, activation function) and other hyper parameters (optimizer, learning rate, batch size, number of epochs, degree of regularization). For example, try a much deeper network. How much does the training time increase for a network with 10 layers?\n",
        "\n",
        "Question 21: How high classification accuracy can you achieve for the test data? What is your best configuration?"
      ]
    },
    {
      "cell_type": "code",
      "metadata": {
        "scrolled": true,
        "id": "uvqW8PkLUEY0",
        "colab_type": "code",
        "colab": {}
      },
      "source": [
        "# Find your best configuration for the DNN\n",
        "\n",
        "# Build and train DNN\n",
        "model10 = model8\n",
        "\n",
        "history10 = history8\n"
      ],
      "execution_count": 0,
      "outputs": []
    },
    {
      "cell_type": "code",
      "metadata": {
        "id": "1Zm-qF6LUEY2",
        "colab_type": "code",
        "outputId": "a144a8ab-1a14-4379-ed13-64ca9ae4205d",
        "colab": {
          "base_uri": "https://localhost:8080/",
          "height": 50
        }
      },
      "source": [
        "# Evaluate DNN on test data\n",
        "score = model8.evaluate(Xtest,Ytest,verbose=0)\n",
        "\n",
        "print('Test loss: %.4f' % score[0])\n",
        "print('Test accuracy: %.4f' % score[1])"
      ],
      "execution_count": 0,
      "outputs": [
        {
          "output_type": "stream",
          "text": [
            "Test loss: 0.1138\n",
            "Test accuracy: 0.9375\n"
          ],
          "name": "stdout"
        }
      ]
    },
    {
      "cell_type": "markdown",
      "metadata": {
        "id": "g18aSLLcUEY4",
        "colab_type": "text"
      },
      "source": [
        "# Part 21: Dropout uncertainty\n",
        "\n",
        "Dropout can also be used during testing, to obtain an estimate of the model uncertainty. Since dropout will randomly remove connections, the network will produce different results every time the same (test) data is put into the network. This technique is called Monte Carlo dropout. For more information, see this paper http://proceedings.mlr.press/v48/gal16.pdf\n",
        "\n",
        "To achieve this, we need to redefine the Keras Dropout call by running the cell below, and use 'myDropout' in each call to Dropout, in the cell that defines the DNN.\n",
        "\n",
        "Run the same test data through the trained network 100 times, with dropout turned on. \n",
        "\n",
        "Question 22: What is the mean and the standard deviation of the test accuracy?"
      ]
    },
    {
      "cell_type": "code",
      "metadata": {
        "id": "FHIH7tk1UEY5",
        "colab_type": "code",
        "colab": {}
      },
      "source": [
        "import keras\n",
        "import keras.backend as K\n",
        "\n",
        "class myDropout(keras.layers.Dropout):\n",
        "    \"\"\"Applies Dropout to the input.\n",
        "    Dropout consists in randomly setting\n",
        "    a fraction `rate` of input units to 0 at each update during training time,\n",
        "    which helps prevent overfitting.\n",
        "    # Arguments\n",
        "        rate: float between 0 and 1. Fraction of the input units to drop.\n",
        "        noise_shape: 1D integer tensor representing the shape of the\n",
        "            binary dropout mask that will be multiplied with the input.\n",
        "            For instance, if your inputs have shape\n",
        "            `(batch_size, timesteps, features)` and\n",
        "            you want the dropout mask to be the same for all timesteps,\n",
        "            you can use `noise_shape=(batch_size, 1, features)`.\n",
        "        seed: A Python integer to use as random seed.\n",
        "    # References\n",
        "        - [Dropout: A Simple Way to Prevent Neural Networks from Overfitting](\n",
        "           http://www.jmlr.org/papers/volume15/srivastava14a/srivastava14a.pdf)\n",
        "    \"\"\"\n",
        "    def __init__(self, rate, training=True, noise_shape=None, seed=None, **kwargs):\n",
        "        super(myDropout, self).__init__(rate, noise_shape=None, seed=None,**kwargs)\n",
        "        self.training = training\n",
        "\n",
        "        \n",
        "    def call(self, inputs, training=None):\n",
        "        if 0. < self.rate < 1.:\n",
        "            noise_shape = self._get_noise_shape(inputs)\n",
        "\n",
        "            def dropped_inputs():\n",
        "                return K.dropout(inputs, self.rate, noise_shape,\n",
        "                                 seed=self.seed)\n",
        "            if not training: \n",
        "                return K.in_train_phase(dropped_inputs, inputs, training=self.training)\n",
        "            return K.in_train_phase(dropped_inputs, inputs, training=training)\n",
        "        return inputs"
      ],
      "execution_count": 0,
      "outputs": []
    },
    {
      "cell_type": "markdown",
      "metadata": {
        "id": "RlGh-vLQUEY7",
        "colab_type": "text"
      },
      "source": [
        "### Your best config, custom dropout"
      ]
    },
    {
      "cell_type": "code",
      "metadata": {
        "scrolled": true,
        "id": "sCOwrA4WUEY7",
        "colab_type": "code",
        "outputId": "855f5cf2-7f40-4bf3-897e-534d318ce492",
        "colab": {
          "base_uri": "https://localhost:8080/",
          "height": 706
        }
      },
      "source": [
        "# Your best training parameters\n",
        "\n",
        "\n",
        "# Build and train model\n",
        "model11 = build_DNN(input_shape, n_layers = 2, n_nodes = 20, act_fun='sigmoid', optimizer='adam', learning_rate=0.1, \n",
        "              use_bn=False, use_dropout=False, use_custom_dropout=True)\n",
        "\n",
        "history11 = model11.fit(Xtrain,Ytrain,validation_data = (Xval,Yval),batch_size = batch_size, epochs = epochs, class_weight=class_weights)"
      ],
      "execution_count": 0,
      "outputs": [
        {
          "output_type": "stream",
          "text": [
            "Train on 534895 samples, validate on 114621 samples\n",
            "Epoch 1/20\n",
            "534895/534895 [==============================] - 1s 3us/step - loss: 0.2589 - accuracy: 0.8519 - val_loss: 0.1895 - val_accuracy: 0.8907\n",
            "Epoch 2/20\n",
            "534895/534895 [==============================] - 1s 2us/step - loss: 0.1786 - accuracy: 0.9001 - val_loss: 0.1725 - val_accuracy: 0.9084\n",
            "Epoch 3/20\n",
            "534895/534895 [==============================] - 1s 2us/step - loss: 0.1692 - accuracy: 0.9104 - val_loss: 0.1669 - val_accuracy: 0.9122\n",
            "Epoch 4/20\n",
            "534895/534895 [==============================] - 1s 2us/step - loss: 0.1660 - accuracy: 0.9124 - val_loss: 0.1652 - val_accuracy: 0.9128\n",
            "Epoch 5/20\n",
            "534895/534895 [==============================] - 1s 2us/step - loss: 0.1647 - accuracy: 0.9131 - val_loss: 0.1634 - val_accuracy: 0.9140\n",
            "Epoch 6/20\n",
            "534895/534895 [==============================] - 1s 3us/step - loss: 0.1636 - accuracy: 0.9140 - val_loss: 0.1623 - val_accuracy: 0.9150\n",
            "Epoch 7/20\n",
            "534895/534895 [==============================] - 1s 2us/step - loss: 0.1626 - accuracy: 0.9145 - val_loss: 0.1620 - val_accuracy: 0.9146\n",
            "Epoch 8/20\n",
            "534895/534895 [==============================] - 1s 2us/step - loss: 0.1619 - accuracy: 0.9143 - val_loss: 0.1614 - val_accuracy: 0.9154\n",
            "Epoch 9/20\n",
            "534895/534895 [==============================] - 1s 2us/step - loss: 0.1609 - accuracy: 0.9149 - val_loss: 0.1604 - val_accuracy: 0.9155\n",
            "Epoch 10/20\n",
            "534895/534895 [==============================] - 1s 2us/step - loss: 0.1604 - accuracy: 0.9150 - val_loss: 0.1600 - val_accuracy: 0.9152\n",
            "Epoch 11/20\n",
            "534895/534895 [==============================] - 1s 2us/step - loss: 0.1609 - accuracy: 0.9145 - val_loss: 0.1606 - val_accuracy: 0.9152\n",
            "Epoch 12/20\n",
            "534895/534895 [==============================] - 1s 2us/step - loss: 0.1604 - accuracy: 0.9146 - val_loss: 0.1602 - val_accuracy: 0.9153\n",
            "Epoch 13/20\n",
            "534895/534895 [==============================] - 1s 2us/step - loss: 0.1602 - accuracy: 0.9145 - val_loss: 0.1590 - val_accuracy: 0.9157\n",
            "Epoch 14/20\n",
            "534895/534895 [==============================] - 1s 2us/step - loss: 0.1596 - accuracy: 0.9147 - val_loss: 0.1585 - val_accuracy: 0.9157\n",
            "Epoch 15/20\n",
            "534895/534895 [==============================] - 1s 2us/step - loss: 0.1590 - accuracy: 0.9149 - val_loss: 0.1588 - val_accuracy: 0.9159\n",
            "Epoch 16/20\n",
            "534895/534895 [==============================] - 1s 2us/step - loss: 0.1587 - accuracy: 0.9147 - val_loss: 0.1577 - val_accuracy: 0.9160\n",
            "Epoch 17/20\n",
            "534895/534895 [==============================] - 1s 2us/step - loss: 0.1583 - accuracy: 0.9150 - val_loss: 0.1576 - val_accuracy: 0.9156\n",
            "Epoch 18/20\n",
            "534895/534895 [==============================] - 1s 2us/step - loss: 0.1581 - accuracy: 0.9150 - val_loss: 0.1564 - val_accuracy: 0.9160\n",
            "Epoch 19/20\n",
            "534895/534895 [==============================] - 1s 2us/step - loss: 0.1577 - accuracy: 0.9152 - val_loss: 0.1574 - val_accuracy: 0.9157\n",
            "Epoch 20/20\n",
            "534895/534895 [==============================] - 1s 2us/step - loss: 0.1579 - accuracy: 0.9152 - val_loss: 0.1577 - val_accuracy: 0.9156\n"
          ],
          "name": "stdout"
        }
      ]
    },
    {
      "cell_type": "code",
      "metadata": {
        "id": "4MAc7qL-UEY_",
        "colab_type": "code",
        "outputId": "011a9642-b505-4e99-81a1-1c3ec8d57e8c",
        "colab": {
          "base_uri": "https://localhost:8080/",
          "height": 34
        }
      },
      "source": [
        "# Run this cell a few times to evalute the model on test data, \n",
        "# if you get slightly different test accuracy every time, Dropout during testing is working\n",
        "\n",
        "# Evaluate model on test data\n",
        "score = model11.evaluate(Xtest,Ytest,verbose=0)\n",
        "                       \n",
        "print('Test accuracy: %.4f' % score[1])"
      ],
      "execution_count": 0,
      "outputs": [
        {
          "output_type": "stream",
          "text": [
            "Test accuracy: 0.9154\n"
          ],
          "name": "stdout"
        }
      ]
    },
    {
      "cell_type": "code",
      "metadata": {
        "id": "YgGbpEGzUEZC",
        "colab_type": "code",
        "outputId": "970a9200-127a-482b-bb5d-f8810bbf2a39",
        "colab": {
          "base_uri": "https://localhost:8080/",
          "height": 50
        }
      },
      "source": [
        "# Run the testing 100 times, and save the accuracies in an array\n",
        "test_accuracy=list()\n",
        "for i in range(100):\n",
        " test_accuracy.append(model11.evaluate(Xtest,Ytest,verbose=0)[1])\n",
        "\n",
        "\n",
        "\n",
        "    \n",
        "# Calculate and print mean and std of accuracies\n",
        "print(\"Mean of Test Accuracy\",np.mean(test_accuracy))\n",
        "print(\"Std of Test Accuracy\",np.std(test_accuracy))\n"
      ],
      "execution_count": 0,
      "outputs": [
        {
          "output_type": "stream",
          "text": [
            "Mean of Test Accuracy 0.9155318838357925\n",
            "Std of Test Accuracy 0.0002311218719836481\n"
          ],
          "name": "stdout"
        }
      ]
    },
    {
      "cell_type": "markdown",
      "metadata": {
        "id": "K6S0cKQgUEZF",
        "colab_type": "text"
      },
      "source": [
        "# Part 22: Cross validation uncertainty\n",
        "\n",
        "Cross validation (CV) is often used to evaluate a model, by training and testing using different subsets of the data it is possible to get the uncertainty as the standard deviation over folds. We here use a help function from scikit-learn to setup the CV, see https://scikit-learn.org/stable/modules/generated/sklearn.model_selection.StratifiedKFold.html . Use 10 folds with shuffling, random state 1234. \n",
        "\n",
        "Note: We here assume that you have found the best hyper parameters, so here the data are only split into training and testing, no validation.\n",
        "\n",
        "---\n",
        "\n",
        "Question 23: What is the mean and the standard deviation of the test accuracy?\n",
        "\n",
        "Question 24: What is the main advantage of dropout compared to CV for estimating test uncertainty?"
      ]
    },
    {
      "cell_type": "code",
      "metadata": {
        "id": "51wtu8hNUEZF",
        "colab_type": "code",
        "colab": {}
      },
      "source": [
        "from sklearn.model_selection import StratifiedKFold\n",
        "\n",
        "# Define 10-fold cross validation\n",
        "\n",
        "# Loop over cross validation folds\n",
        "    \n",
        "    # Calculate class weights for current split\n",
        "    \n",
        "    # Rebuild the DNN model, to not continue training on the previously trained model\n",
        "    \n",
        "    # Fit the model with training set and class weights for this fold\n",
        "    \n",
        "    # Evaluate the model using the test set for this fold\n",
        "    \n",
        "    # Save the test accuracy in an array\n",
        "\n",
        "# Calculate and print mean and std of accuracies\n",
        "\n"
      ],
      "execution_count": 0,
      "outputs": []
    },
    {
      "cell_type": "markdown",
      "metadata": {
        "id": "wgbyyM-6UEZJ",
        "colab_type": "text"
      },
      "source": [
        "# Part 23: DNN regression\n",
        "\n",
        "A similar DNN can be used for regression, instead of classification.\n",
        "\n",
        "Question 25: How would you change the DNN in order to use it for regression instead?"
      ]
    },
    {
      "cell_type": "markdown",
      "metadata": {
        "id": "7UWmgyhVUEZK",
        "colab_type": "text"
      },
      "source": [
        "## Report\n",
        "\n",
        "Send in this jupyter notebook, with answers to all questions."
      ]
    }
  ]
}